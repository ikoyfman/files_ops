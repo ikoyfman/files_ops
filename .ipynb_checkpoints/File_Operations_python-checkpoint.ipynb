{
 "cells": [
  {
   "cell_type": "markdown",
   "metadata": {},
   "source": [
    "## Working with files in Python"
   ]
  },
  {
   "cell_type": "code",
   "execution_count": 1,
   "metadata": {},
   "outputs": [],
   "source": [
    "from pathlib import Path"
   ]
  },
  {
   "cell_type": "code",
   "execution_count": 2,
   "metadata": {},
   "outputs": [
    {
     "name": "stdout",
     "output_type": "stream",
     "text": [
      "files\n"
     ]
    }
   ],
   "source": [
    "files_dir = Path.cwd().joinpath('files')\n",
    "print(files_dir.name)"
   ]
  },
  {
   "cell_type": "code",
   "execution_count": 3,
   "metadata": {},
   "outputs": [
    {
     "name": "stdout",
     "output_type": "stream",
     "text": [
      "/home/ikadmin/Codes-Python/files_ops/files/csv_files\n",
      "/home/ikadmin/Codes-Python/files_ops/files/text_files\n"
     ]
    }
   ],
   "source": [
    "csv_dir = files_dir.joinpath('csv_files')\n",
    "print(csv_dir)\n",
    "text_dir = files_dir.joinpath('text_files')\n",
    "print(text_dir)"
   ]
  },
  {
   "cell_type": "code",
   "execution_count": 4,
   "metadata": {},
   "outputs": [
    {
     "name": "stdout",
     "output_type": "stream",
     "text": [
      "test copy.txt\n",
      "test copy 5.txt\n",
      "test copy 4.txt\n",
      "test copy 3.txt\n",
      "test copy 2.txt\n",
      "test.txt\n"
     ]
    }
   ],
   "source": [
    "for text_file in text_dir.glob(\"*.txt\"):\n",
    "    print(text_file.name)"
   ]
  },
  {
   "cell_type": "code",
   "execution_count": 5,
   "metadata": {},
   "outputs": [
    {
     "name": "stdout",
     "output_type": "stream",
     "text": [
      "test-Copy2.csv\n",
      "test-Copy5.csv\n",
      "test-Copy4.csv\n",
      "test-Copy3.csv\n",
      "test.csv\n",
      "test-Copy1.csv\n"
     ]
    }
   ],
   "source": [
    "for csv_file in csv_dir.glob(\"*.csv\"):\n",
    "    print(csv_file.name)"
   ]
  },
  {
   "cell_type": "markdown",
   "metadata": {},
   "source": [
    "### Reading files\n",
    "#### with open"
   ]
  },
  {
   "cell_type": "code",
   "execution_count": 25,
   "metadata": {},
   "outputs": [],
   "source": [
    "list_files = [text_file for text_file in text_dir.glob(\"*.txt\")]"
   ]
  },
  {
   "cell_type": "code",
   "execution_count": 27,
   "metadata": {},
   "outputs": [
    {
     "name": "stdout",
     "output_type": "stream",
     "text": [
      " Text file test-Copy2.txt has this content \n",
      " test\n",
      " Text file test-Copy3.txt has this content \n",
      " test\n",
      " Text file test-Copy1.txt has this content \n",
      " test\n",
      " Text file test-Copy5.txt has this content \n",
      " test\n",
      " Text file test.txt has this content \n",
      " test\n",
      " Text file test-Copy4.txt has this content \n",
      " test\n"
     ]
    }
   ],
   "source": [
    "for text_file in text_dir.glob(\"*.txt\"):\n",
    "    with open(text_file, mode='r') as open_file:\n",
    "        read_txt = open_file.read()\n",
    "        print(f\" Text file {text_file.name} has this content \\n{read_txt}\")"
   ]
  },
  {
   "cell_type": "code",
   "execution_count": 29,
   "metadata": {},
   "outputs": [
    {
     "name": "stdout",
     "output_type": "stream",
     "text": [
      " CSV file test-Copy2.csv has this content \n",
      " This, is, a, test, csv\n",
      " CSV file test-Copy5.csv has this content \n",
      " This, is, a, test, csv\n",
      " CSV file test-Copy4.csv has this content \n",
      " This, is, a, test, csv\n",
      " CSV file test-Copy3.csv has this content \n",
      " This, is, a, test, csv\n",
      " CSV file test.csv has this content \n",
      " This, is, a, test, csv\n",
      " CSV file test-Copy1.csv has this content \n",
      " This, is, a, test, csv\n"
     ]
    }
   ],
   "source": [
    "for csv_file in csv_dir.glob(\"*.csv\"):\n",
    "    with open(csv_file, mode='r') as open_file:\n",
    "        read_csv = open_file.read()\n",
    "        print(f\" CSV file {csv_file.name} has this content \\n {read_csv}\")"
   ]
  },
  {
   "cell_type": "markdown",
   "metadata": {},
   "source": [
    "### Writing Files"
   ]
  },
  {
   "cell_type": "markdown",
   "metadata": {},
   "source": [
    "*** Appending to files\n",
    "\n",
    "* Read Only (‘r’) : Open text file for reading. The handle is positioned at the beginning of the file. If the file does not exists, raises I/O error. This is also the default mode in which file is opened.\n",
    "* Read and Write (‘r+’) : Open the file for reading and writing. The handle is positioned at the beginning of the file. Raises I/O error if the file does not exists.\n",
    "* Write Only (‘w’) : Open the file for writing. For existing file, the data is truncated and over-written. The handle is positioned at the beginning of the file. Creates the file if the file does not exists.\n",
    "* Write and Read (‘w+’) : Open the file for reading and writing. For existing file, data is truncated and over-written. The handle is positioned at the beginning of the file.\n",
    "* Append Only (‘a’) : Open the file for writing. The file is created if it does not exist. The handle is positioned at the end of the file. The data being written will be inserted at the end, after the existing data.\n",
    "* Append and Read (‘a+’) : Open the file for reading and writing. The file is created if it does not exist. The handle is positioned at the end of the file. The data being written will be inserted at the end, after the existing data.\n"
   ]
  },
  {
   "cell_type": "code",
   "execution_count": 33,
   "metadata": {},
   "outputs": [],
   "source": [
    "count = 0\n",
    "for text_file in text_dir.glob(\"*.txt\"):\n",
    "    #append to file\n",
    "    with open(text_file, mode='a+') as open_file:\n",
    "        new_txt = f\"This is file # {count}\"\n",
    "        open_file.write(new_txt)\n",
    "    \n",
    "    count += 1"
   ]
  },
  {
   "cell_type": "code",
   "execution_count": null,
   "metadata": {},
   "outputs": [],
   "source": []
  }
 ],
 "metadata": {
  "kernelspec": {
   "display_name": "Python 3",
   "language": "python",
   "name": "python3"
  },
  "language_info": {
   "codemirror_mode": {
    "name": "ipython",
    "version": 3
   },
   "file_extension": ".py",
   "mimetype": "text/x-python",
   "name": "python",
   "nbconvert_exporter": "python",
   "pygments_lexer": "ipython3",
   "version": "3.7.5rc1"
  }
 },
 "nbformat": 4,
 "nbformat_minor": 4
}
