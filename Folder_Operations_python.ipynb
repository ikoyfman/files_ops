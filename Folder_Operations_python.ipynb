{
 "cells": [
  {
   "cell_type": "markdown",
   "metadata": {},
   "source": [
    "### PYTHON FILE STRUCTURE NAVIGATION \n",
    "## Pathlib.Path()"
   ]
  },
  {
   "cell_type": "code",
   "execution_count": 4,
   "metadata": {},
   "outputs": [],
   "source": [
    "from pathlib import Path\n",
    "from pprint import pprint"
   ]
  },
  {
   "cell_type": "code",
   "execution_count": 5,
   "metadata": {},
   "outputs": [],
   "source": [
    "#Get your current working directory\n",
    "\n",
    "cwd = Path.cwd()"
   ]
  },
  {
   "cell_type": "code",
   "execution_count": 6,
   "metadata": {},
   "outputs": [],
   "source": [
    "#make a new directory\n",
    "cwd.joinpath('test').mkdir()\n",
    "test_dir = Path('test')"
   ]
  },
  {
   "cell_type": "code",
   "execution_count": 7,
   "metadata": {},
   "outputs": [],
   "source": [
    "#making a lot of directories example\n",
    "new_dir = cwd.joinpath('new')\n",
    "new_dir.mkdir()\n",
    "count = 0\n",
    "while (count < 10):\n",
    "    new_folder = new_dir.joinpath(str(count)).mkdir()\n",
    "    count += 1"
   ]
  },
  {
   "cell_type": "code",
   "execution_count": 8,
   "metadata": {},
   "outputs": [],
   "source": [
    "#list all dirs\n",
    "folders = [item for item in cwd.glob(\"**\") if item.is_dir()]\n",
    "pprint(folders)\n",
    "pprint(f\"There are {len(folders)} folders in {cwd.absolute()}\")"
   ]
  },
  {
   "cell_type": "code",
   "execution_count": 22,
   "metadata": {},
   "outputs": [
    {
     "name": "stdout",
     "output_type": "stream",
     "text": [
      "[PosixPath('/home/ikadmin/Codes/file_operations/Folder_Operations_python.ipynb'),\n",
      " PosixPath('/home/ikadmin/Codes/file_operations/.git/hooks/pre-commit.sample'),\n",
      " PosixPath('/home/ikadmin/Codes/file_operations/.git/hooks/update.sample'),\n",
      " PosixPath('/home/ikadmin/Codes/file_operations/.git/hooks/pre-applypatch.sample'),\n",
      " PosixPath('/home/ikadmin/Codes/file_operations/.git/hooks/pre-rebase.sample'),\n",
      " PosixPath('/home/ikadmin/Codes/file_operations/.git/hooks/pre-push.sample'),\n",
      " PosixPath('/home/ikadmin/Codes/file_operations/.git/hooks/fsmonitor-watchman.sample'),\n",
      " PosixPath('/home/ikadmin/Codes/file_operations/.git/hooks/applypatch-msg.sample'),\n",
      " PosixPath('/home/ikadmin/Codes/file_operations/.git/hooks/prepare-commit-msg.sample'),\n",
      " PosixPath('/home/ikadmin/Codes/file_operations/.git/hooks/pre-receive.sample'),\n",
      " PosixPath('/home/ikadmin/Codes/file_operations/.git/hooks/commit-msg.sample'),\n",
      " PosixPath('/home/ikadmin/Codes/file_operations/.git/hooks/post-update.sample'),\n",
      " PosixPath('/home/ikadmin/Codes/file_operations/.ipynb_checkpoints/Folder_Operations_python-checkpoint.ipynb')]\n",
      "'There are 13 files in /home/ikadmin/Codes/file_operations'\n"
     ]
    }
   ],
   "source": [
    "#list all files\n",
    "files = [item for item in cwd.glob(\"**/*.*\") if item.is_file()]\n",
    "pprint(files)\n",
    "pprint(f\"There are {len(files)} files in {cwd.absolute()}\")"
   ]
  },
  {
   "cell_type": "markdown",
   "metadata": {},
   "source": [
    "### Renaming a directory"
   ]
  },
  {
   "cell_type": "code",
   "execution_count": 12,
   "metadata": {},
   "outputs": [
    {
     "name": "stdout",
     "output_type": "stream",
     "text": [
      "test\n"
     ]
    },
    {
     "ename": "FileNotFoundError",
     "evalue": "[Errno 2] No such file or directory: 'test' -> 'test_renamed'",
     "output_type": "error",
     "traceback": [
      "\u001b[0;31m---------------------------------------------------------------------------\u001b[0m",
      "\u001b[0;31mFileNotFoundError\u001b[0m                         Traceback (most recent call last)",
      "\u001b[0;32m<ipython-input-12-76504ceeae92>\u001b[0m in \u001b[0;36m<module>\u001b[0;34m\u001b[0m\n\u001b[1;32m      5\u001b[0m \u001b[0;34m\u001b[0m\u001b[0m\n\u001b[1;32m      6\u001b[0m \u001b[0;31m#renaming\u001b[0m\u001b[0;34m\u001b[0m\u001b[0;34m\u001b[0m\u001b[0;34m\u001b[0m\u001b[0m\n\u001b[0;32m----> 7\u001b[0;31m \u001b[0mtest_dir\u001b[0m\u001b[0;34m.\u001b[0m\u001b[0mrename\u001b[0m\u001b[0;34m(\u001b[0m\u001b[0mrename_dir\u001b[0m\u001b[0;34m)\u001b[0m\u001b[0;34m\u001b[0m\u001b[0;34m\u001b[0m\u001b[0m\n\u001b[0m",
      "\u001b[0;32m/usr/lib/python3.7/pathlib.py\u001b[0m in \u001b[0;36mrename\u001b[0;34m(self, target)\u001b[0m\n\u001b[1;32m   1317\u001b[0m         \u001b[0;32mif\u001b[0m \u001b[0mself\u001b[0m\u001b[0;34m.\u001b[0m\u001b[0m_closed\u001b[0m\u001b[0;34m:\u001b[0m\u001b[0;34m\u001b[0m\u001b[0;34m\u001b[0m\u001b[0m\n\u001b[1;32m   1318\u001b[0m             \u001b[0mself\u001b[0m\u001b[0;34m.\u001b[0m\u001b[0m_raise_closed\u001b[0m\u001b[0;34m(\u001b[0m\u001b[0;34m)\u001b[0m\u001b[0;34m\u001b[0m\u001b[0;34m\u001b[0m\u001b[0m\n\u001b[0;32m-> 1319\u001b[0;31m         \u001b[0mself\u001b[0m\u001b[0;34m.\u001b[0m\u001b[0m_accessor\u001b[0m\u001b[0;34m.\u001b[0m\u001b[0mrename\u001b[0m\u001b[0;34m(\u001b[0m\u001b[0mself\u001b[0m\u001b[0;34m,\u001b[0m \u001b[0mtarget\u001b[0m\u001b[0;34m)\u001b[0m\u001b[0;34m\u001b[0m\u001b[0;34m\u001b[0m\u001b[0m\n\u001b[0m\u001b[1;32m   1320\u001b[0m \u001b[0;34m\u001b[0m\u001b[0m\n\u001b[1;32m   1321\u001b[0m     \u001b[0;32mdef\u001b[0m \u001b[0mreplace\u001b[0m\u001b[0;34m(\u001b[0m\u001b[0mself\u001b[0m\u001b[0;34m,\u001b[0m \u001b[0mtarget\u001b[0m\u001b[0;34m)\u001b[0m\u001b[0;34m:\u001b[0m\u001b[0;34m\u001b[0m\u001b[0;34m\u001b[0m\u001b[0m\n",
      "\u001b[0;31mFileNotFoundError\u001b[0m: [Errno 2] No such file or directory: 'test' -> 'test_renamed'"
     ]
    }
   ],
   "source": [
    "#our current test dir\n",
    "print(test_dir)\n",
    "#our target path\n",
    "rename_dir = Path('test_renamed')\n",
    "\n",
    "#renaming\n",
    "test_dir.rename(rename_dir)"
   ]
  },
  {
   "cell_type": "code",
   "execution_count": 13,
   "metadata": {},
   "outputs": [],
   "source": [
    "#remove a directory\n",
    "rename_dir.rmdir()"
   ]
  },
  {
   "cell_type": "code",
   "execution_count": 14,
   "metadata": {},
   "outputs": [
    {
     "ename": "OSError",
     "evalue": "[Errno 39] Directory not empty: '/home/ikadmin/Codes/file_operations/new'",
     "output_type": "error",
     "traceback": [
      "\u001b[0;31m---------------------------------------------------------------------------\u001b[0m",
      "\u001b[0;31mOSError\u001b[0m                                   Traceback (most recent call last)",
      "\u001b[0;32m<ipython-input-14-b56c5a81bb2e>\u001b[0m in \u001b[0;36m<module>\u001b[0;34m\u001b[0m\n\u001b[1;32m      1\u001b[0m \u001b[0;31m#must be empty or we can use different\u001b[0m\u001b[0;34m\u001b[0m\u001b[0;34m\u001b[0m\u001b[0;34m\u001b[0m\u001b[0m\n\u001b[0;32m----> 2\u001b[0;31m \u001b[0mnew_dir\u001b[0m\u001b[0;34m.\u001b[0m\u001b[0mrmdir\u001b[0m\u001b[0;34m(\u001b[0m\u001b[0;34m)\u001b[0m\u001b[0;34m\u001b[0m\u001b[0;34m\u001b[0m\u001b[0m\n\u001b[0m",
      "\u001b[0;32m/usr/lib/python3.7/pathlib.py\u001b[0m in \u001b[0;36mrmdir\u001b[0;34m(self)\u001b[0m\n\u001b[1;32m   1300\u001b[0m         \u001b[0;32mif\u001b[0m \u001b[0mself\u001b[0m\u001b[0;34m.\u001b[0m\u001b[0m_closed\u001b[0m\u001b[0;34m:\u001b[0m\u001b[0;34m\u001b[0m\u001b[0;34m\u001b[0m\u001b[0m\n\u001b[1;32m   1301\u001b[0m             \u001b[0mself\u001b[0m\u001b[0;34m.\u001b[0m\u001b[0m_raise_closed\u001b[0m\u001b[0;34m(\u001b[0m\u001b[0;34m)\u001b[0m\u001b[0;34m\u001b[0m\u001b[0;34m\u001b[0m\u001b[0m\n\u001b[0;32m-> 1302\u001b[0;31m         \u001b[0mself\u001b[0m\u001b[0;34m.\u001b[0m\u001b[0m_accessor\u001b[0m\u001b[0;34m.\u001b[0m\u001b[0mrmdir\u001b[0m\u001b[0;34m(\u001b[0m\u001b[0mself\u001b[0m\u001b[0;34m)\u001b[0m\u001b[0;34m\u001b[0m\u001b[0;34m\u001b[0m\u001b[0m\n\u001b[0m\u001b[1;32m   1303\u001b[0m \u001b[0;34m\u001b[0m\u001b[0m\n\u001b[1;32m   1304\u001b[0m     \u001b[0;32mdef\u001b[0m \u001b[0mlstat\u001b[0m\u001b[0;34m(\u001b[0m\u001b[0mself\u001b[0m\u001b[0;34m)\u001b[0m\u001b[0;34m:\u001b[0m\u001b[0;34m\u001b[0m\u001b[0;34m\u001b[0m\u001b[0m\n",
      "\u001b[0;31mOSError\u001b[0m: [Errno 39] Directory not empty: '/home/ikadmin/Codes/file_operations/new'"
     ]
    }
   ],
   "source": [
    "#must be empty or we can use different\n",
    "new_dir.rmdir()"
   ]
  },
  {
   "cell_type": "code",
   "execution_count": 16,
   "metadata": {},
   "outputs": [],
   "source": [
    "import shutil\n",
    "shutil.rmtree(new_dir)"
   ]
  },
  {
   "cell_type": "markdown",
   "metadata": {},
   "source": [
    "### Stat Information"
   ]
  },
  {
   "cell_type": "code",
   "execution_count": 33,
   "metadata": {},
   "outputs": [
    {
     "name": "stdout",
     "output_type": "stream",
     "text": [
      "os.stat_result(st_mode=16893, st_ino=12583271, st_dev=2067, st_nlink=5, st_uid=1000, st_gid=1000, st_size=4096, st_atime=1572747844, st_mtime=1572747844, st_ctime=1572747844)\n"
     ]
    }
   ],
   "source": [
    "stat_info = cwd.stat()\n",
    "print(stat_info)"
   ]
  },
  {
   "cell_type": "code",
   "execution_count": 32,
   "metadata": {},
   "outputs": [
    {
     "name": "stdout",
     "output_type": "stream",
     "text": [
      "/home/ikadmin/Codes/file_operations:\n",
      "  Size: 4096\n",
      "  Permissions: 0o40775\n",
      "  Owner: 1000\n",
      "  Device: 2067\n",
      "  Created      : Sat Nov  2 22:24:04 2019\n",
      "  Last modified: Sat Nov  2 22:24:04 2019\n",
      "  Last accessed: Sat Nov  2 22:24:04 2019\n"
     ]
    }
   ],
   "source": [
    "import time\n",
    "\n",
    "print('{}:'.format(cwd))\n",
    "print('  Size:', stat_info.st_size)\n",
    "print('  Permissions:', oct(stat_info.st_mode))\n",
    "print('  Owner:', stat_info.st_uid)\n",
    "print('  Device:', stat_info.st_dev)\n",
    "print('  Created      :', time.ctime(stat_info.st_ctime))\n",
    "print('  Last modified:', time.ctime(stat_info.st_mtime))\n",
    "print('  Last accessed:', time.ctime(stat_info.st_atime))"
   ]
  }
 ],
 "metadata": {
  "kernelspec": {
   "display_name": "Python 3",
   "language": "python",
   "name": "python3"
  },
  "language_info": {
   "codemirror_mode": {
    "name": "ipython",
    "version": 3
   },
   "file_extension": ".py",
   "mimetype": "text/x-python",
   "name": "python",
   "nbconvert_exporter": "python",
   "pygments_lexer": "ipython3",
   "version": "3.7.5rc1"
  }
 },
 "nbformat": 4,
 "nbformat_minor": 4
}
