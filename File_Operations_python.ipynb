{
 "cells": [
  {
   "cell_type": "markdown",
   "metadata": {},
   "source": [
    "## Working with files in Python"
   ]
  },
  {
   "cell_type": "code",
   "execution_count": 21,
   "metadata": {},
   "outputs": [],
   "source": [
    "from pathlib import Path"
   ]
  },
  {
   "cell_type": "code",
   "execution_count": 22,
   "metadata": {},
   "outputs": [
    {
     "name": "stdout",
     "output_type": "stream",
     "text": "files\n"
    }
   ],
   "source": [
    "files_dir = Path.cwd().joinpath('files')\n",
    "print(files_dir.name)"
   ]
  },
  {
   "cell_type": "code",
   "execution_count": 23,
   "metadata": {},
   "outputs": [
    {
     "name": "stdout",
     "output_type": "stream",
     "text": "/home/ikadmin/Codes/file_operations/files/csv_files\n/home/ikadmin/Codes/file_operations/files/text_files\n"
    }
   ],
   "source": [
    "csv_dir = files_dir.joinpath('csv_files')\n",
    "print(csv_dir)\n",
    "text_dir = files_dir.joinpath('text_files')\n",
    "print(text_dir)"
   ]
  },
  {
   "cell_type": "code",
   "execution_count": 24,
   "metadata": {},
   "outputs": [
    {
     "name": "stdout",
     "output_type": "stream",
     "text": "test copy 5.txt\ntest copy.txt\ntest copy 2.txt\ntest.txt\ntest copy 4.txt\ntest copy 3.txt\n"
    }
   ],
   "source": [
    "for text_file in text_dir.glob(\"*.txt\"):\n",
    "    print(text_file.name)"
   ]
  },
  {
   "cell_type": "code",
   "execution_count": 25,
   "metadata": {},
   "outputs": [
    {
     "name": "stdout",
     "output_type": "stream",
     "text": "test-Copy2.csv\ntest-Copy4.csv\ntest.csv\ntest-Copy5.csv\ntest-Copy3.csv\ntest-Copy1.csv\n"
    }
   ],
   "source": [
    "for csv_file in csv_dir.glob(\"*.csv\"):\n",
    "    print(csv_file.name)"
   ]
  },
  {
   "cell_type": "markdown",
   "metadata": {},
   "source": [
    "### Reading files\n",
    "#### with open"
   ]
  },
  {
   "cell_type": "code",
   "execution_count": 32,
   "metadata": {},
   "outputs": [
    {
     "name": "stdout",
     "output_type": "stream",
     "text": "Text file test copy 5.txt has this content \n  test-Copy2.txt\n Text file test copy.txt has this content \n  test-Copy2.txt\n Text file test copy 2.txt has this content \n  test-Copy2.txt\n Text file test.txt has this content \n  test-Copy2.txt\n Text file test copy 4.txt has this content \n  test-Copy2.txt\n Text file test copy 3.txt has this content \n  test-Copy2.txt\n"
    }
   ],
   "source": [
    "for text_file in text_dir.glob(\"*.txt\"):\n",
    "    with open(text_file, mode='r') as open_file:\n",
    "        read_txt = open_file.read()\n",
    "        print(f\" Text file {text_file.name} has this content \\n {read_txt}\")"
   ]
  },
  {
   "cell_type": "code",
   "execution_count": 8,
   "metadata": {},
   "outputs": [
    {
     "name": "stdout",
     "output_type": "stream",
     "text": "CSV file test-Copy2.csv has this content \n This, is, a, test, csv\n CSV file test-Copy4.csv has this content \n This, is, a, test, csv\n CSV file test.csv has this content \n This, is, a, test, csv\n CSV file test-Copy5.csv has this content \n This, is, a, test, csv\n CSV file test-Copy3.csv has this content \n This, is, a, test, csv\n CSV file test-Copy1.csv has this content \n This, is, a, test, csv\n"
    }
   ],
   "source": [
    "for csv_file in csv_dir.glob(\"*.csv\"):\n",
    "    with open(csv_file, mode='r') as open_file:\n",
    "        read_csv = open_file.read()\n",
    "        print(f\" CSV file {csv_file.name} has this content \\n {read_csv}\")"
   ]
  },
  {
   "cell_type": "markdown",
   "metadata": {},
   "source": [
    "### Writing Files"
   ]
  },
  {
   "cell_type": "code",
   "execution_count": 31,
   "metadata": {},
   "outputs": [
    {
     "name": "stdout",
     "output_type": "stream",
     "text": "['\\n test copy 5.txt']\n['\\n test copy.txt']\n['\\n test copy 2.txt']\n['\\n test.txt']\n['\\n test copy 4.txt']\n['\\n test copy 3.txt']\n"
    }
   ],
   "source": [
    "for text_file in text_dir.glob(\"*.txt\"):\n",
    "    with open(text_file, mode='w+') as open_file:\n",
    "        read_txt = open_file.readlines()\n",
    "        read_txt.append(\"\\n Hello World {}\".format(text_file.name.replace('.csv', ''))\n",
    "        print(read_txt)\n",
    "        open_file.write(new_txt)\n",
    "        "
   ]
  },
  {
   "cell_type": "code",
   "execution_count": null,
   "metadata": {},
   "outputs": [],
   "source": []
  }
 ],
 "metadata": {
  "kernelspec": {
   "display_name": "Python 3",
   "language": "python",
   "name": "python3"
  },
  "language_info": {
   "codemirror_mode": {
    "name": "ipython",
    "version": 3
   },
   "file_extension": ".py",
   "mimetype": "text/x-python",
   "name": "python",
   "nbconvert_exporter": "python",
   "pygments_lexer": "ipython3",
   "version": "3.7.5rc1"
  }
 },
 "nbformat": 4,
 "nbformat_minor": 4
}